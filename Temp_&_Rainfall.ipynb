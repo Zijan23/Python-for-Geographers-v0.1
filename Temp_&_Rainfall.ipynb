{
  "nbformat": 4,
  "nbformat_minor": 0,
  "metadata": {
    "colab": {
      "provenance": [],
      "authorship_tag": "ABX9TyMrl+/JfS5W+LjT2TjBooaK",
      "include_colab_link": true
    },
    "kernelspec": {
      "name": "python3",
      "display_name": "Python 3"
    },
    "language_info": {
      "name": "python"
    }
  },
  "cells": [
    {
      "cell_type": "markdown",
      "metadata": {
        "id": "view-in-github",
        "colab_type": "text"
      },
      "source": [
        "<a href=\"https://colab.research.google.com/github/Zijan23/Python-for-Geographers-v0.1/blob/main/Temp_%26_Rainfall.ipynb\" target=\"_parent\"><img src=\"https://colab.research.google.com/assets/colab-badge.svg\" alt=\"Open In Colab\"/></a>"
      ]
    },
    {
      "cell_type": "code",
      "execution_count": null,
      "metadata": {
        "colab": {
          "base_uri": "https://localhost:8080/"
        },
        "id": "ttZn7hHFya-I",
        "outputId": "22b29063-8c64-4bea-df50-c2f298157873"
      },
      "outputs": [
        {
          "output_type": "stream",
          "name": "stdout",
          "text": [
            "Requirement already satisfied: pandas in /usr/local/lib/python3.11/dist-packages (2.2.2)\n",
            "Requirement already satisfied: requests in /usr/local/lib/python3.11/dist-packages (2.32.3)\n",
            "Requirement already satisfied: numpy>=1.23.2 in /usr/local/lib/python3.11/dist-packages (from pandas) (2.0.2)\n",
            "Requirement already satisfied: python-dateutil>=2.8.2 in /usr/local/lib/python3.11/dist-packages (from pandas) (2.8.2)\n",
            "Requirement already satisfied: pytz>=2020.1 in /usr/local/lib/python3.11/dist-packages (from pandas) (2025.2)\n",
            "Requirement already satisfied: tzdata>=2022.7 in /usr/local/lib/python3.11/dist-packages (from pandas) (2025.2)\n",
            "Requirement already satisfied: charset-normalizer<4,>=2 in /usr/local/lib/python3.11/dist-packages (from requests) (3.4.1)\n",
            "Requirement already satisfied: idna<4,>=2.5 in /usr/local/lib/python3.11/dist-packages (from requests) (3.10)\n",
            "Requirement already satisfied: urllib3<3,>=1.21.1 in /usr/local/lib/python3.11/dist-packages (from requests) (2.3.0)\n",
            "Requirement already satisfied: certifi>=2017.4.17 in /usr/local/lib/python3.11/dist-packages (from requests) (2025.1.31)\n",
            "Requirement already satisfied: six>=1.5 in /usr/local/lib/python3.11/dist-packages (from python-dateutil>=2.8.2->pandas) (1.17.0)\n"
          ]
        }
      ],
      "source": [
        "pip install pandas requests\n"
      ]
    },
    {
      "cell_type": "code",
      "source": [
        "#Average Temperature Data\n",
        "import requests\n",
        "import pandas as pd\n",
        "from datetime import datetime\n",
        "\n",
        "def download_temperature_data(start, end, lat, lon, location_name):\n",
        "    url = f\"https://power.larc.nasa.gov/api/temporal/daily/point\"\n",
        "    params = {\n",
        "        \"start\": start,\n",
        "        \"end\": end,\n",
        "        \"latitude\": lat,\n",
        "        \"longitude\": lon,\n",
        "        \"community\": \"AG\",\n",
        "        \"parameters\": \"T2M\",\n",
        "        \"format\": \"JSON\",\n",
        "        \"header\": \"true\",\n",
        "        \"time-standard\": \"UTC\"\n",
        "    }\n",
        "\n",
        "    response = requests.get(url, params=params)\n",
        "    data = response.json()\n",
        "\n",
        "    # Convert JSON data to DataFrame\n",
        "    records = data['properties']['parameter']['T2M']\n",
        "    df = pd.DataFrame(list(records.items()), columns=['Date', 'T2M (°C)'])\n",
        "    df['Date'] = pd.to_datetime(df['Date'])\n",
        "    df.to_csv(f\"{location_name}_daily_avg_temp_2000_2025.csv\", index=False)\n",
        "    print(f\"{location_name} data saved!\")\n",
        "\n",
        "# Coordinates for Dhaka and Khulna\n",
        "locations = {\n",
        "    \"Dhaka\": (23.8103, 90.4125),\n",
        "    \"Khulna\": (22.8456, 89.5403)\n",
        "}\n",
        "\n",
        "start_date = \"20000101\"\n",
        "end_date = \"20251231\"\n",
        "\n",
        "# Download data for both cities\n",
        "for name, (lat, lon) in locations.items():\n",
        "    download_temperature_data(start_date, end_date, lat, lon, name)\n"
      ],
      "metadata": {
        "colab": {
          "base_uri": "https://localhost:8080/"
        },
        "id": "zOkZXunMygb3",
        "outputId": "6336b265-ee66-4608-8d05-89540a0dc1d3"
      },
      "execution_count": null,
      "outputs": [
        {
          "output_type": "stream",
          "name": "stdout",
          "text": [
            "Dhaka data saved!\n",
            "Khulna data saved!\n"
          ]
        }
      ]
    },
    {
      "cell_type": "code",
      "source": [
        "#RAINFALL\n",
        "import requests\n",
        "import pandas as pd\n",
        "\n",
        "def download_rainfall_data(start, end, lat, lon, location_name):\n",
        "    url = f\"https://power.larc.nasa.gov/api/temporal/daily/point\"\n",
        "    params = {\n",
        "        \"start\": start,\n",
        "        \"end\": end,\n",
        "        \"latitude\": lat,\n",
        "        \"longitude\": lon,\n",
        "        \"community\": \"AG\",\n",
        "        \"parameters\": \"PRECTOTCORR\",\n",
        "        \"format\": \"JSON\",\n",
        "        \"header\": \"true\",\n",
        "        \"time-standard\": \"UTC\"\n",
        "    }\n",
        "\n",
        "    response = requests.get(url, params=params)\n",
        "    data = response.json()\n",
        "\n",
        "    # Convert JSON data to DataFrame\n",
        "    records = data['properties']['parameter']['PRECTOTCORR']\n",
        "    df = pd.DataFrame(list(records.items()), columns=['Date', 'Rainfall (mm)'])\n",
        "    df['Date'] = pd.to_datetime(df['Date'])\n",
        "    df.to_csv(f\"{location_name}_daily_rainfall_2015_2024.csv\", index=False)\n",
        "    print(f\"{location_name} rainfall data saved!\")\n",
        "\n",
        "# Coordinates for Dhaka and Khulna\n",
        "locations = {\n",
        "    \"Dhaka\": (23.8103, 90.4125),\n",
        "    \"Khulna\": (22.8456, 89.5403)\n",
        "}\n",
        "\n",
        "start_date = \"20150101\"\n",
        "end_date = \"20241231\"\n",
        "\n",
        "# Download rainfall data\n",
        "for name, (lat, lon) in locations.items():\n",
        "    download_rainfall_data(start_date, end_date, lat, lon, name)\n"
      ],
      "metadata": {
        "colab": {
          "base_uri": "https://localhost:8080/"
        },
        "id": "MivR5MISynSn",
        "outputId": "3b5f107a-a4e9-42d3-b800-53a30406759d"
      },
      "execution_count": null,
      "outputs": [
        {
          "output_type": "stream",
          "name": "stdout",
          "text": [
            "Dhaka rainfall data saved!\n",
            "Khulna rainfall data saved!\n"
          ]
        }
      ]
    },
    {
      "cell_type": "code",
      "source": [],
      "metadata": {
        "id": "V5tXpIFtzsSj"
      },
      "execution_count": null,
      "outputs": []
    }
  ]
}